{
 "cells": [
  {
   "cell_type": "markdown",
   "id": "966afbae",
   "metadata": {},
   "source": [
    "# Numbers in Python"
   ]
  },
  {
   "cell_type": "code",
   "execution_count": 1,
   "id": "3d6f7097",
   "metadata": {},
   "outputs": [
    {
     "name": "stdout",
     "output_type": "stream",
     "text": [
      "<class 'int'>\n"
     ]
    }
   ],
   "source": [
    "num = 3\n",
    "print(type(num))"
   ]
  },
  {
   "cell_type": "code",
   "execution_count": 2,
   "id": "9ac8bf6a",
   "metadata": {},
   "outputs": [
    {
     "name": "stdout",
     "output_type": "stream",
     "text": [
      "<class 'float'>\n"
     ]
    }
   ],
   "source": [
    "num = 3.14\n",
    "print(type(num))"
   ]
  },
  {
   "cell_type": "markdown",
   "id": "25560e7e",
   "metadata": {},
   "source": [
    "**Following are some arithmetic operators in python:**\n",
    "1. Addition:         3 + 2\n",
    "2. Subtraction:      3 - 2\n",
    "3. Multiplication:   3 * 2\n",
    "4. Division:         3 / 2\n",
    "5. Floor Division: 3 // 2\n",
    "6. Exponent:         3 ** 2\n",
    "7. Modulus:          3 % 2"
   ]
  },
  {
   "cell_type": "code",
   "execution_count": 3,
   "id": "f09abe1a",
   "metadata": {},
   "outputs": [
    {
     "name": "stdout",
     "output_type": "stream",
     "text": [
      "5\n",
      "1\n",
      "6\n",
      "1.5\n"
     ]
    }
   ],
   "source": [
    "print(3 + 2)\n",
    "print(3 - 2)\n",
    "print(3 * 2)\n",
    "print(3 / 2)"
   ]
  },
  {
   "cell_type": "markdown",
   "id": "a25098b8",
   "metadata": {},
   "source": [
    "#### // is Floor Division and it drops the decimals part of the value and just keeps the integral part"
   ]
  },
  {
   "cell_type": "code",
   "execution_count": 4,
   "id": "5a7ef373",
   "metadata": {},
   "outputs": [
    {
     "name": "stdout",
     "output_type": "stream",
     "text": [
      "1\n"
     ]
    }
   ],
   "source": [
    "print(3 // 2)"
   ]
  },
  {
   "cell_type": "markdown",
   "id": "05938cde",
   "metadata": {},
   "source": [
    "#### ** is Exponent and (x ** y) means x<sup>y</sup>"
   ]
  },
  {
   "cell_type": "code",
   "execution_count": 5,
   "id": "d70ce371",
   "metadata": {},
   "outputs": [
    {
     "name": "stdout",
     "output_type": "stream",
     "text": [
      "9\n"
     ]
    }
   ],
   "source": [
    "print(3 ** 2)"
   ]
  },
  {
   "cell_type": "markdown",
   "id": "2bd928e8",
   "metadata": {},
   "source": [
    "#### % is Modulus and x % y gives the remainder after division (x / y)"
   ]
  },
  {
   "cell_type": "code",
   "execution_count": 6,
   "id": "80ed640a",
   "metadata": {},
   "outputs": [
    {
     "name": "stdout",
     "output_type": "stream",
     "text": [
      "1\n"
     ]
    }
   ],
   "source": [
    "print(3 % 2)"
   ]
  },
  {
   "cell_type": "code",
   "execution_count": 7,
   "id": "2822817c",
   "metadata": {},
   "outputs": [
    {
     "name": "stdout",
     "output_type": "stream",
     "text": [
      "7\n",
      "9\n"
     ]
    }
   ],
   "source": [
    "print(3 * 2 + 1)\n",
    "# In the normal order of operations, we will multiply 3 and 2 and get 6 and then add 1 to it = 7\n",
    "\n",
    "print(3 * (2 + 1))\n",
    "# Now we will perform the operations inside bracket and get 3 then multiply it with 3 = 9"
   ]
  },
  {
   "cell_type": "code",
   "execution_count": 8,
   "id": "1c6444c0",
   "metadata": {},
   "outputs": [
    {
     "name": "stdout",
     "output_type": "stream",
     "text": [
      "2\n"
     ]
    }
   ],
   "source": [
    "# Incrementing a value:\n",
    "num = 1\n",
    "num = num + 1\n",
    "print(num)"
   ]
  },
  {
   "cell_type": "code",
   "execution_count": 9,
   "id": "d2337605",
   "metadata": {},
   "outputs": [
    {
     "name": "stdout",
     "output_type": "stream",
     "text": [
      "2\n"
     ]
    }
   ],
   "source": [
    "# Another way to increment the value is using shorthand operators:\n",
    "num = 1\n",
    "num += 1\n",
    "print(num)"
   ]
  },
  {
   "cell_type": "markdown",
   "id": "16fb80fe",
   "metadata": {},
   "source": [
    "**Above method of shorthand operators works with all other operators**"
   ]
  },
  {
   "cell_type": "code",
   "execution_count": 10,
   "id": "3fa44b3d",
   "metadata": {},
   "outputs": [
    {
     "name": "stdout",
     "output_type": "stream",
     "text": [
      "10\n"
     ]
    }
   ],
   "source": [
    "num = 1\n",
    "num *= 10\n",
    "print(num)"
   ]
  },
  {
   "cell_type": "markdown",
   "id": "74749d98",
   "metadata": {},
   "source": [
    "**abs() is a built in function that returns the absolute value of the passed value, i.e., it removes the negative sign from that passed value**"
   ]
  },
  {
   "cell_type": "code",
   "execution_count": 11,
   "id": "c460e9be",
   "metadata": {},
   "outputs": [
    {
     "name": "stdout",
     "output_type": "stream",
     "text": [
      "3\n"
     ]
    }
   ],
   "source": [
    "num = -3\n",
    "print(abs(num))"
   ]
  },
  {
   "cell_type": "markdown",
   "id": "6ec3756b",
   "metadata": {},
   "source": [
    "**round() is a built in function that rounds the passed value to nearest integer by default. If we pass one more argument, it will round the number till that decimal place**"
   ]
  },
  {
   "cell_type": "code",
   "execution_count": 14,
   "id": "08c41c75",
   "metadata": {},
   "outputs": [
    {
     "name": "stdout",
     "output_type": "stream",
     "text": [
      "3\n",
      "3.3456\n",
      "3.346\n",
      "3.35\n",
      "3.3\n"
     ]
    }
   ],
   "source": [
    "print(round(3.3456))\n",
    "print(round(3.3456, 4))\n",
    "print(round(3.3456, 3))\n",
    "print(round(3.3456, 2))\n",
    "print(round(3.3456, 1))"
   ]
  },
  {
   "cell_type": "markdown",
   "id": "5a5b4b50",
   "metadata": {},
   "source": [
    "**Following are some arithmetic operators in python:**\n",
    "1. Equal:         3 == 2\n",
    "2. Not Equal:      3 != 2\n",
    "3. Greater Than:   3 > 2\n",
    "4. Less Than:         3 < 2\n",
    "5. Greater Than or Equal To: 3 >= 2\n",
    "6. Less Than or Equal To:         3 <= 2\n",
    "\n",
    "**The operators return True or False according to the result of comparison**"
   ]
  },
  {
   "cell_type": "code",
   "execution_count": 16,
   "id": "a6d7caa6",
   "metadata": {},
   "outputs": [],
   "source": [
    "num1 = 3\n",
    "num2 = 2"
   ]
  },
  {
   "cell_type": "code",
   "execution_count": 17,
   "id": "bcd6eb04",
   "metadata": {},
   "outputs": [
    {
     "name": "stdout",
     "output_type": "stream",
     "text": [
      "False\n"
     ]
    }
   ],
   "source": [
    "print(num1 == num2)"
   ]
  },
  {
   "cell_type": "code",
   "execution_count": 18,
   "id": "c140faf3",
   "metadata": {},
   "outputs": [
    {
     "name": "stdout",
     "output_type": "stream",
     "text": [
      "True\n"
     ]
    }
   ],
   "source": [
    "print(num1 != num2)"
   ]
  },
  {
   "cell_type": "code",
   "execution_count": 19,
   "id": "f0682253",
   "metadata": {},
   "outputs": [
    {
     "name": "stdout",
     "output_type": "stream",
     "text": [
      "True\n"
     ]
    }
   ],
   "source": [
    "print(num1 > num2)"
   ]
  },
  {
   "cell_type": "code",
   "execution_count": 21,
   "id": "ea778ec0",
   "metadata": {},
   "outputs": [
    {
     "name": "stdout",
     "output_type": "stream",
     "text": [
      "False\n"
     ]
    }
   ],
   "source": [
    "print(num1 < num2)"
   ]
  },
  {
   "cell_type": "code",
   "execution_count": 22,
   "id": "b20e754c",
   "metadata": {},
   "outputs": [
    {
     "name": "stdout",
     "output_type": "stream",
     "text": [
      "True\n"
     ]
    }
   ],
   "source": [
    "print(num1 >= num2)"
   ]
  },
  {
   "cell_type": "code",
   "execution_count": 23,
   "id": "385af9e9",
   "metadata": {},
   "outputs": [
    {
     "name": "stdout",
     "output_type": "stream",
     "text": [
      "False\n"
     ]
    }
   ],
   "source": [
    "print(num1 <= num2)"
   ]
  },
  {
   "cell_type": "code",
   "execution_count": 25,
   "id": "2adb7c16",
   "metadata": {},
   "outputs": [
    {
     "name": "stdout",
     "output_type": "stream",
     "text": [
      "100200\n",
      "300\n"
     ]
    }
   ],
   "source": [
    "num1 = '100'\n",
    "num2 = '200'\n",
    "\n",
    "print(num1 + num2)\n",
    "# Here both num1 and num2 are strings, hence the result 100200 but we needed 300 so we need to typecast the values\n",
    "# to integer\n",
    "\n",
    "num1 = int(num1)\n",
    "num2 = int(num2)\n",
    "print(num1 + num2)"
   ]
  },
  {
   "cell_type": "code",
   "execution_count": null,
   "id": "072020df",
   "metadata": {},
   "outputs": [],
   "source": []
  }
 ],
 "metadata": {
  "kernelspec": {
   "display_name": "Python 3 (ipykernel)",
   "language": "python",
   "name": "python3"
  },
  "language_info": {
   "codemirror_mode": {
    "name": "ipython",
    "version": 3
   },
   "file_extension": ".py",
   "mimetype": "text/x-python",
   "name": "python",
   "nbconvert_exporter": "python",
   "pygments_lexer": "ipython3",
   "version": "3.9.7"
  }
 },
 "nbformat": 4,
 "nbformat_minor": 5
}
