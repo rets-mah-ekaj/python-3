{
 "cells": [
  {
   "cell_type": "markdown",
   "id": "5d93effa",
   "metadata": {},
   "source": [
    "# Strings"
   ]
  },
  {
   "cell_type": "code",
   "execution_count": 1,
   "id": "528156d0",
   "metadata": {},
   "outputs": [
    {
     "name": "stdout",
     "output_type": "stream",
     "text": [
      "Hello World\n"
     ]
    }
   ],
   "source": [
    "print('Hello World')"
   ]
  },
  {
   "cell_type": "code",
   "execution_count": 2,
   "id": "cdb02edf",
   "metadata": {},
   "outputs": [
    {
     "name": "stdout",
     "output_type": "stream",
     "text": [
      "Hello World\n"
     ]
    }
   ],
   "source": [
    "message = 'Hello World'\n",
    "print(message)"
   ]
  },
  {
   "cell_type": "code",
   "execution_count": 5,
   "id": "896f9f53",
   "metadata": {},
   "outputs": [],
   "source": [
    "# message = 'Bobby's World'\n",
    "# This will give error because the compiler will assume it to be  the closing quote"
   ]
  },
  {
   "cell_type": "markdown",
   "id": "dd7129be",
   "metadata": {},
   "source": [
    "To avoid above error we can either use escape sequence or double quotes"
   ]
  },
  {
   "cell_type": "code",
   "execution_count": 7,
   "id": "f3c6fff7",
   "metadata": {},
   "outputs": [
    {
     "name": "stdout",
     "output_type": "stream",
     "text": [
      "Bobby's World\n"
     ]
    }
   ],
   "source": [
    "message = 'Bobby\\'s World'\n",
    "print(message)"
   ]
  },
  {
   "cell_type": "code",
   "execution_count": 8,
   "id": "f1d4db96",
   "metadata": {},
   "outputs": [
    {
     "name": "stdout",
     "output_type": "stream",
     "text": [
      "Bobby's World\n"
     ]
    }
   ],
   "source": [
    "message = \"Bobby's World\"\n",
    "print(message)"
   ]
  },
  {
   "cell_type": "markdown",
   "id": "970ab368",
   "metadata": {},
   "source": [
    "### To make a multi-line string, we need to use triple quotes.\n",
    "It can be either triple single quotes ('''XXXX''') or triple double quotes (\"\"\"XXXX\"\"\")"
   ]
  },
  {
   "cell_type": "code",
   "execution_count": 13,
   "id": "c557cd19",
   "metadata": {},
   "outputs": [
    {
     "name": "stdout",
     "output_type": "stream",
     "text": [
      "Tom and Jerry\n",
      "is the best cartoon out there!\n"
     ]
    }
   ],
   "source": [
    "message = \"\"\"Tom and Jerry\n",
    "is the best cartoon out there!\"\"\"\n",
    "print(message)"
   ]
  },
  {
   "cell_type": "code",
   "execution_count": 14,
   "id": "d7b1cf8f",
   "metadata": {},
   "outputs": [
    {
     "name": "stdout",
     "output_type": "stream",
     "text": [
      "I like\n",
      "Tom and Jerry\n"
     ]
    }
   ],
   "source": [
    "message = '''I like\n",
    "Tom and Jerry'''\n",
    "print(message)"
   ]
  },
  {
   "cell_type": "code",
   "execution_count": 18,
   "id": "3b912a01",
   "metadata": {},
   "outputs": [
    {
     "name": "stdout",
     "output_type": "stream",
     "text": [
      "11\n"
     ]
    }
   ],
   "source": [
    "message = 'Hello World'\n",
    "print(len(message))\n",
    "# len() returns the length of the iterable. Iterable here is the string."
   ]
  },
  {
   "cell_type": "code",
   "execution_count": 19,
   "id": "584f2cc7",
   "metadata": {},
   "outputs": [
    {
     "name": "stdout",
     "output_type": "stream",
     "text": [
      "H\n"
     ]
    }
   ],
   "source": [
    "# string elements can be randomly accessed if index that is used is within the range of its length.\n",
    "print(message[0])"
   ]
  },
  {
   "cell_type": "code",
   "execution_count": 20,
   "id": "4838a930",
   "metadata": {},
   "outputs": [
    {
     "name": "stdout",
     "output_type": "stream",
     "text": [
      "d\n"
     ]
    }
   ],
   "source": [
    "print(message[10])"
   ]
  },
  {
   "cell_type": "code",
   "execution_count": 22,
   "id": "a4239151",
   "metadata": {},
   "outputs": [],
   "source": [
    "# print(message[11])\n",
    "# Since, index starts from 0, the last character is at index 10 in message. If we try to execute above statement,\n",
    "# it will throw an error since we are trying to access out of range index."
   ]
  },
  {
   "cell_type": "code",
   "execution_count": 23,
   "id": "c6f92db4",
   "metadata": {},
   "outputs": [
    {
     "name": "stdout",
     "output_type": "stream",
     "text": [
      "Hello\n"
     ]
    }
   ],
   "source": [
    "# To print a range of characters in iterable (here, string), we use '[start_index : end_index]'\n",
    "print(message[0:5])"
   ]
  },
  {
   "cell_type": "markdown",
   "id": "217f196e",
   "metadata": {},
   "source": [
    "*start_index is inclusive but end_index is not inclusive*\n",
    "- H E L L O _ W O R L D\n",
    "- 0 1 2 3 4 5 6 7 8 9 10\n",
    "\n",
    "Here is the index of the above message"
   ]
  },
  {
   "cell_type": "markdown",
   "id": "79a21aeb",
   "metadata": {},
   "source": [
    "**str.lower() converts str to all lowercase**\n",
    "\n",
    "**str.upper() converts str to all uppercase**"
   ]
  },
  {
   "cell_type": "code",
   "execution_count": 26,
   "id": "b2d986eb",
   "metadata": {},
   "outputs": [
    {
     "name": "stdout",
     "output_type": "stream",
     "text": [
      "hello world\n"
     ]
    }
   ],
   "source": [
    "print(message.lower())"
   ]
  },
  {
   "cell_type": "code",
   "execution_count": 27,
   "id": "128e388d",
   "metadata": {},
   "outputs": [
    {
     "name": "stdout",
     "output_type": "stream",
     "text": [
      "HELLO WORLD\n"
     ]
    }
   ],
   "source": [
    "print(message.upper())"
   ]
  },
  {
   "cell_type": "markdown",
   "id": "f6b77b3e",
   "metadata": {},
   "source": [
    "**str.count(key) counts number of occurrences of key in str**"
   ]
  },
  {
   "cell_type": "code",
   "execution_count": 29,
   "id": "42accfa9",
   "metadata": {},
   "outputs": [
    {
     "name": "stdout",
     "output_type": "stream",
     "text": [
      "3\n",
      "1\n"
     ]
    }
   ],
   "source": [
    "print(message.count('l'))\n",
    "# str.count(key) can be used to count characters as well as strings\n",
    "print(message.count('Hello'))"
   ]
  },
  {
   "cell_type": "markdown",
   "id": "b21235f5",
   "metadata": {},
   "source": [
    "**str.find(key) finds the starting index of the key in str**"
   ]
  },
  {
   "cell_type": "code",
   "execution_count": 32,
   "id": "3d5d5304",
   "metadata": {},
   "outputs": [
    {
     "name": "stdout",
     "output_type": "stream",
     "text": [
      "2\n",
      "6\n",
      "-1\n"
     ]
    }
   ],
   "source": [
    "print(message.find('l'))\n",
    "# str.find(key) can be used to find index of characters as well as strings\n",
    "print(message.find('World'))\n",
    "# if the character or string that is passed into find as key is not present in the string, -1 will be returned\n",
    "print(message.find('Universe'))"
   ]
  },
  {
   "cell_type": "code",
   "execution_count": null,
   "id": "eb3fe253",
   "metadata": {},
   "outputs": [],
   "source": []
  }
 ],
 "metadata": {
  "kernelspec": {
   "display_name": "Python 3 (ipykernel)",
   "language": "python",
   "name": "python3"
  },
  "language_info": {
   "codemirror_mode": {
    "name": "ipython",
    "version": 3
   },
   "file_extension": ".py",
   "mimetype": "text/x-python",
   "name": "python",
   "nbconvert_exporter": "python",
   "pygments_lexer": "ipython3",
   "version": "3.9.7"
  }
 },
 "nbformat": 4,
 "nbformat_minor": 5
}
